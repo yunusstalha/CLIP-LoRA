{
 "cells": [
  {
   "cell_type": "code",
   "execution_count": 1,
   "metadata": {},
   "outputs": [],
   "source": [
    "import torch\n",
    "import torchvision.models as models\n",
    "import torch.nn as nn\n"
   ]
  },
  {
   "cell_type": "code",
   "execution_count": 2,
   "metadata": {},
   "outputs": [
    {
     "name": "stderr",
     "output_type": "stream",
     "text": [
      "/home/erzurumlu.1/miniconda3/envs/whereami/lib/python3.9/site-packages/torchvision/models/_utils.py:208: UserWarning: The parameter 'pretrained' is deprecated since 0.13 and may be removed in the future, please use 'weights' instead.\n",
      "  warnings.warn(\n",
      "/home/erzurumlu.1/miniconda3/envs/whereami/lib/python3.9/site-packages/torchvision/models/_utils.py:223: UserWarning: Arguments other than a weight enum or `None` for 'weights' are deprecated since 0.13 and may be removed in the future. The current behavior is equivalent to passing `weights=ResNet50_Weights.IMAGENET1K_V1`. You can also use `weights=ResNet50_Weights.DEFAULT` to get the most up-to-date weights.\n",
      "  warnings.warn(msg)\n"
     ]
    }
   ],
   "source": [
    "resnet_model = models.resnet50(pretrained=True)\n",
    "resnet_model = nn.Sequential( *list(resnet_model.children())[:-1] )\n"
   ]
  },
  {
   "cell_type": "code",
   "execution_count": 3,
   "metadata": {},
   "outputs": [
    {
     "name": "stdout",
     "output_type": "stream",
     "text": [
      "torch.Size([5, 2048, 1, 1])\n"
     ]
    }
   ],
   "source": [
    "# Generate a random input tensor\n",
    "input_tensor = torch.randn(5, 3, 224, 224)\n",
    "\n",
    "# Pass the input tensor through the resnet_model\n",
    "output_tensor = resnet_model(input_tensor)\n",
    "\n",
    "# Print the output shape\n",
    "print(output_tensor.shape)\n"
   ]
  },
  {
   "cell_type": "code",
   "execution_count": 4,
   "metadata": {},
   "outputs": [],
   "source": [
    "import torch\n",
    "import torch.nn as nn\n",
    "\n",
    "class ImageProjection(nn.Module):\n",
    "    \n",
    "    def __init__(self, image_embedding_size, shared_embedding_size, dropout=0.1):\n",
    "        super(ImageProjection, self).__init__()\n",
    "        self.image_projection = nn.Linear(image_embedding_size, shared_embedding_size)\n",
    "        self.gelu = nn.GELU()\n",
    "        self.fc = nn.Linear(shared_embedding_size, shared_embedding_size)\n",
    "        self.dropout = nn.Dropout(dropout)\n",
    "        self.layer_norm = nn.LayerNorm(shared_embedding_size)\n",
    "        \n",
    "    def forward(self, image_embeddings):\n",
    "        projected_embeddings = self.image_projection(image_embeddings)\n",
    "        \n",
    "        x = self.gelu(projected_embeddings)\n",
    "        x = self.fc(x)\n",
    "        x = self.dropout(x)\n",
    "        x = x + projected_embeddings\n",
    "        x = self.layer_norm(x)\n",
    "        \n",
    "        return x"
   ]
  },
  {
   "cell_type": "code",
   "execution_count": 5,
   "metadata": {},
   "outputs": [
    {
     "name": "stdout",
     "output_type": "stream",
     "text": [
      "torch.Size([5, 512])\n"
     ]
    }
   ],
   "source": [
    "image_projection = ImageProjection(2048, 512)\n",
    "output_tensor = image_projection(output_tensor.squeeze())\n",
    "print(output_tensor.shape)"
   ]
  },
  {
   "cell_type": "code",
   "execution_count": 2,
   "metadata": {},
   "outputs": [
    {
     "name": "stdout",
     "output_type": "stream",
     "text": [
      "torch.Size([128, 2048, 1, 1])\n"
     ]
    }
   ],
   "source": [
    "from equiconv_encoder import PanoramaVisionEncoder\n",
    "\n",
    "layerdict, offsetdict = torch.load('/home/erzurumlu.1/yunus/git/whereami/checkpoints/panorama_unet/offset_layer/layer_256x512-b128.pt'), torch.load('/home/erzurumlu.1/yunus/git/whereami/checkpoints/panorama_unet/offset_layer/offset_256x512-b128.pt')\n",
    "model = PanoramaVisionEncoder(layer_dict=layerdict, offset_dict=offsetdict)\n",
    "input_tensor = torch.randn(128, 3, 256, 512)\n",
    "model.load_state_dict(torch.load('/home/erzurumlu.1/yunus/git/whereami/checkpoints/panorama_unet/equi_panorama_encoder.pth'))\n",
    "output_tensor = model(input_tensor)\n",
    "print(output_tensor.shape)"
   ]
  },
  {
   "cell_type": "code",
   "execution_count": null,
   "metadata": {},
   "outputs": [],
   "source": []
  }
 ],
 "metadata": {
  "kernelspec": {
   "display_name": "whereami",
   "language": "python",
   "name": "python3"
  },
  "language_info": {
   "codemirror_mode": {
    "name": "ipython",
    "version": 3
   },
   "file_extension": ".py",
   "mimetype": "text/x-python",
   "name": "python",
   "nbconvert_exporter": "python",
   "pygments_lexer": "ipython3",
   "version": "3.10.0"
  }
 },
 "nbformat": 4,
 "nbformat_minor": 2
}
